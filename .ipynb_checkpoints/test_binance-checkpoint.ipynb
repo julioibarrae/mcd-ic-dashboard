{
 "cells": [
  {
   "cell_type": "code",
   "execution_count": null,
   "metadata": {},
   "outputs": [],
   "source": [
    "# init\n",
    "from binance.client import Client\n",
    "api_key = \"UjDfSvc9DY8qtwUPNzATSCBpTRUoYYp0V4A8q90yYXQ2jYadnls2MLKzu8QsmQDe\"\n",
    "api_secret = \"Ib5RaTcAmzGPV5IEVQfnA4HHatDtpKOuewovzDQ21MRj3p6UOxMs4QMpL0ZpGaoF\""
   ]
  },
  {
   "cell_type": "code",
   "execution_count": null,
   "metadata": {},
   "outputs": [],
   "source": [
    "client = Client(api_key, api_secret)\n",
    "client.API_URL = 'https://testnet.binance.vision/api'\n",
    "# get balances for all assets & some account information\n",
    "#print(client.get_account())\n",
    "#print(client.get_asset_balance(asset='BTC'))\n",
    "\n",
    "btc_price = client.get_symbol_ticker(symbol=\"BTCUSDT\")\n",
    "print(btc_price)"
   ]
  },
  {
   "cell_type": "code",
   "execution_count": null,
   "metadata": {},
   "outputs": [],
   "source": [
    "# request historical candle (or klines) data\n",
    "# valid intervals - 1m, 3m, 5m, 15m, 30m, 1h, 2h, 4h, 6h, 8h, 12h, 1d, 3d, 1w, 1M\n",
    "\n",
    "# get timestamp of earliest date data is available\n",
    "timestamp = client._get_earliest_valid_timestamp('BTCUSDT', '1d')\n",
    "timestamp\n"
   ]
  },
  {
   "cell_type": "code",
   "execution_count": null,
   "metadata": {},
   "outputs": [],
   "source": [
    "bars = client.get_historical_klines('BTCUSDT', '1d', timestamp, limit=1000)\n"
   ]
  },
  {
   "cell_type": "code",
   "execution_count": null,
   "metadata": {},
   "outputs": [],
   "source": [
    "\n",
    "# option 2 - save as CSV file using the csv writer library\n",
    "with open('data/btc_bars.csv', 'w', newline='') as f:\n",
    "    wr = csv.writer(f)\n",
    "    for line in bars:\n",
    "        wr.writerow(line)\n",
    "        \n",
    "        \n",
    "# option 3 - save as CSV file without using a library. \n",
    "with open('data/btc_bars2.csv', 'w') as d:\n",
    "    for line in bars:\n",
    "        d.write(f'{line[0]}, {line[1]}, {line[2]}, {line[3]}, {line[4]}\\n')\n",
    "\n",
    "# option 4 - create a Pandas DataFrame and export to CSV\n",
    "for line in bars:\n",
    "    del line[5:]\n",
    "btc_df = pd.DataFrame(bars, columns=['date', 'open', 'high', 'low', 'close'])\n",
    "btc_df.set_index('date', inplace=True)\n",
    "btc_df.to_csv('data/btc_bars3.csv')\n",
    "btc_df.info()\n",
    "btc_df.head()"
   ]
  }
 ],
 "metadata": {
  "kernelspec": {
   "display_name": "Python 3",
   "language": "python",
   "name": "python3"
  },
  "language_info": {
   "codemirror_mode": {
    "name": "ipython",
    "version": 3
   },
   "file_extension": ".py",
   "mimetype": "text/x-python",
   "name": "python",
   "nbconvert_exporter": "python",
   "pygments_lexer": "ipython3",
   "version": "3.8.5"
  }
 },
 "nbformat": 4,
 "nbformat_minor": 4
}
