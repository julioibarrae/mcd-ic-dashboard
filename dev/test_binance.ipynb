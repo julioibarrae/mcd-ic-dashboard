{
 "cells": [
  {
   "cell_type": "code",
   "execution_count": 1,
   "metadata": {},
   "outputs": [],
   "source": [
    "# init\n",
    "from binance.client import Client\n",
    "api_key = \"UjDfSvc9DY8qtwUPNzATSCBpTRUoYYp0V4A8q90yYXQ2jYadnls2MLKzu8QsmQDe\"\n",
    "api_secret = \"Ib5RaTcAmzGPV5IEVQfnA4HHatDtpKOuewovzDQ21MRj3p6UOxMs4QMpL0ZpGaoF\""
   ]
  },
  {
   "cell_type": "code",
   "execution_count": 2,
   "metadata": {},
   "outputs": [
    {
     "name": "stdout",
     "output_type": "stream",
     "text": [
      "{'symbol': 'BTCUSDT', 'price': '18292.60000000'}\n"
     ]
    }
   ],
   "source": [
    "client = Client(api_key, api_secret)\n",
    "#client.API_URL = 'https://testnet.binance.vision/api'\n",
    "# get balances for all assets & some account information\n",
    "#print(client.get_account())\n",
    "#print(client.get_asset_balance(asset='BTC'))\n",
    "\n",
    "btc_price = client.get_symbol_ticker(symbol=\"BTCUSDT\")\n",
    "print(btc_price)"
   ]
  },
  {
   "cell_type": "code",
   "execution_count": 3,
   "metadata": {},
   "outputs": [
    {
     "data": {
      "text/plain": [
       "1502928000000"
      ]
     },
     "execution_count": 3,
     "metadata": {},
     "output_type": "execute_result"
    }
   ],
   "source": [
    "# request historical candle (or klines) data\n",
    "# valid intervals - 1m, 3m, 5m, 15m, 30m, 1h, 2h, 4h, 6h, 8h, 12h, 1d, 3d, 1w, 1M\n",
    "\n",
    "# get timestamp of earliest date data is available\n",
    "timestamp = client._get_earliest_valid_timestamp('BTCUSDT', '1d')\n",
    "timestamp"
   ]
  },
  {
   "cell_type": "code",
   "execution_count": 4,
   "metadata": {},
   "outputs": [],
   "source": [
    "bars = client.get_historical_klines('BTCUSDT', '1d', timestamp, limit=1000)"
   ]
  },
  {
   "cell_type": "code",
   "execution_count": 5,
   "metadata": {},
   "outputs": [
    {
     "ename": "NameError",
     "evalue": "name 'csv' is not defined",
     "output_type": "error",
     "traceback": [
      "\u001b[0;31m---------------------------------------------------------------------------\u001b[0m",
      "\u001b[0;31mNameError\u001b[0m                                 Traceback (most recent call last)",
      "\u001b[0;32m<ipython-input-5-edd1eecb862a>\u001b[0m in \u001b[0;36m<module>\u001b[0;34m\u001b[0m\n\u001b[1;32m      1\u001b[0m \u001b[0;31m# option 2 - save as CSV file using the csv writer library\u001b[0m\u001b[0;34m\u001b[0m\u001b[0;34m\u001b[0m\u001b[0;34m\u001b[0m\u001b[0m\n\u001b[1;32m      2\u001b[0m \u001b[0;32mwith\u001b[0m \u001b[0mopen\u001b[0m\u001b[0;34m(\u001b[0m\u001b[0;34m'data/btc_bars.csv'\u001b[0m\u001b[0;34m,\u001b[0m \u001b[0;34m'w'\u001b[0m\u001b[0;34m,\u001b[0m \u001b[0mnewline\u001b[0m\u001b[0;34m=\u001b[0m\u001b[0;34m''\u001b[0m\u001b[0;34m)\u001b[0m \u001b[0;32mas\u001b[0m \u001b[0mf\u001b[0m\u001b[0;34m:\u001b[0m\u001b[0;34m\u001b[0m\u001b[0;34m\u001b[0m\u001b[0m\n\u001b[0;32m----> 3\u001b[0;31m     \u001b[0mwr\u001b[0m \u001b[0;34m=\u001b[0m \u001b[0mcsv\u001b[0m\u001b[0;34m.\u001b[0m\u001b[0mwriter\u001b[0m\u001b[0;34m(\u001b[0m\u001b[0mf\u001b[0m\u001b[0;34m)\u001b[0m\u001b[0;34m\u001b[0m\u001b[0;34m\u001b[0m\u001b[0m\n\u001b[0m\u001b[1;32m      4\u001b[0m     \u001b[0;32mfor\u001b[0m \u001b[0mline\u001b[0m \u001b[0;32min\u001b[0m \u001b[0mbars\u001b[0m\u001b[0;34m:\u001b[0m\u001b[0;34m\u001b[0m\u001b[0;34m\u001b[0m\u001b[0m\n\u001b[1;32m      5\u001b[0m         \u001b[0mwr\u001b[0m\u001b[0;34m.\u001b[0m\u001b[0mwriterow\u001b[0m\u001b[0;34m(\u001b[0m\u001b[0mline\u001b[0m\u001b[0;34m)\u001b[0m\u001b[0;34m\u001b[0m\u001b[0;34m\u001b[0m\u001b[0m\n",
      "\u001b[0;31mNameError\u001b[0m: name 'csv' is not defined"
     ]
    }
   ],
   "source": [
    "\n",
    "# option 2 - save as CSV file using the csv writer library\n",
    "with open('data/btc_bars.csv', 'w', newline='') as f:\n",
    "    wr = csv.writer(f)\n",
    "    for line in bars:\n",
    "        wr.writerow(line)\n",
    "        \n",
    "        \n",
    "# option 3 - save as CSV file without using a library. \n",
    "with open('data/btc_bars2.csv', 'w') as d:\n",
    "    for line in bars:\n",
    "        d.write(f'{line[0]}, {line[1]}, {line[2]}, {line[3]}, {line[4]}\\n')\n",
    "\n",
    "# option 4 - create a Pandas DataFrame and export to CSV\n",
    "for line in bars:\n",
    "    del line[5:]\n",
    "btc_df = pd.DataFrame(bars, columns=['date', 'open', 'high', 'low', 'close'])\n",
    "btc_df.set_index('date', inplace=True)\n",
    "btc_df.to_csv('data/btc_bars3.csv')\n",
    "btc_df.info()\n",
    "btc_df.head()"
   ]
  },
  {
   "cell_type": "code",
   "execution_count": null,
   "metadata": {},
   "outputs": [],
   "source": []
  }
 ],
 "metadata": {
  "kernelspec": {
   "display_name": "Python 3",
   "language": "python",
   "name": "python3"
  },
  "language_info": {
   "codemirror_mode": {
    "name": "ipython",
    "version": 3
   },
   "file_extension": ".py",
   "mimetype": "text/x-python",
   "name": "python",
   "nbconvert_exporter": "python",
   "pygments_lexer": "ipython3",
   "version": "3.8.5"
  }
 },
 "nbformat": 4,
 "nbformat_minor": 4
}
